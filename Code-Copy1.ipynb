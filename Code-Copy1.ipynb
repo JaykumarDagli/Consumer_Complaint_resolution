{
 "cells": [
  {
   "cell_type": "code",
   "execution_count": 1,
   "metadata": {},
   "outputs": [],
   "source": [
    "import pandas as pd\n",
    "import numpy as np\n",
    "\n",
    "from sklearn.model_selection import cross_val_score, train_test_split, GridSearchCV, RandomizedSearchCV\n",
    "from sklearn import metrics\n",
    "from sklearn.metrics import roc_auc_score, confusion_matrix, mean_squared_error\n",
    "\n",
    "import matplotlib.pyplot as plt\n",
    "import seaborn as sns\n",
    "\n",
    "import warnings\n",
    "warnings.filterwarnings('ignore')\n",
    "\n",
    "from sklearn.linear_model import LogisticRegression\n",
    "from sklearn.tree import DecisionTreeClassifier\n",
    "from sklearn.ensemble import RandomForestClassifier\n",
    "from sklearn.neighbors import KNeighborsClassifier"
   ]
  },
  {
   "cell_type": "code",
   "execution_count": 2,
   "metadata": {},
   "outputs": [],
   "source": [
    "df_train = pd.read_csv('C:/Users/Jay/Desktop/Python/Projects/P1/P1 Data/Consumer_Complaints_train.csv')\n",
    "df_test = pd.read_csv('C:/Users/Jay/Desktop/Python/Projects/P1/P1 Data/Consumer_Complaints_test_share.csv')"
   ]
  },
  {
   "cell_type": "code",
   "execution_count": 3,
   "metadata": {},
   "outputs": [
    {
     "name": "stdout",
     "output_type": "stream",
     "text": [
      "<class 'pandas.core.frame.DataFrame'>\n",
      "RangeIndex: 478421 entries, 0 to 478420\n",
      "Data columns (total 18 columns):\n",
      " #   Column                        Non-Null Count   Dtype \n",
      "---  ------                        --------------   ----- \n",
      " 0   Date received                 478421 non-null  object\n",
      " 1   Product                       478421 non-null  object\n",
      " 2   Sub-product                   339948 non-null  object\n",
      " 3   Issue                         478421 non-null  object\n",
      " 4   Sub-issue                     185796 non-null  object\n",
      " 5   Consumer complaint narrative  75094 non-null   object\n",
      " 6   Company public response       90392 non-null   object\n",
      " 7   Company                       478421 non-null  object\n",
      " 8   State                         474582 non-null  object\n",
      " 9   ZIP code                      474573 non-null  object\n",
      " 10  Tags                          67206 non-null   object\n",
      " 11  Consumer consent provided?    135487 non-null  object\n",
      " 12  Submitted via                 478421 non-null  object\n",
      " 13  Date sent to company          478421 non-null  object\n",
      " 14  Company response to consumer  478421 non-null  object\n",
      " 15  Timely response?              478421 non-null  object\n",
      " 16  Consumer disputed?            478421 non-null  object\n",
      " 17  Complaint ID                  478421 non-null  int64 \n",
      "dtypes: int64(1), object(17)\n",
      "memory usage: 65.7+ MB\n",
      "<class 'pandas.core.frame.DataFrame'>\n",
      "RangeIndex: 119606 entries, 0 to 119605\n",
      "Data columns (total 17 columns):\n",
      " #   Column                        Non-Null Count   Dtype \n",
      "---  ------                        --------------   ----- \n",
      " 0   Date received                 119606 non-null  object\n",
      " 1   Product                       119606 non-null  object\n",
      " 2   Sub-product                   84854 non-null   object\n",
      " 3   Issue                         119606 non-null  object\n",
      " 4   Sub-issue                     46546 non-null   object\n",
      " 5   Consumer complaint narrative  18557 non-null   object\n",
      " 6   Company public response       22776 non-null   object\n",
      " 7   Company                       119606 non-null  object\n",
      " 8   State                         118681 non-null  object\n",
      " 9   ZIP code                      118680 non-null  object\n",
      " 10  Tags                          16871 non-null   object\n",
      " 11  Consumer consent provided?    33864 non-null   object\n",
      " 12  Submitted via                 119605 non-null  object\n",
      " 13  Date sent to company          119606 non-null  object\n",
      " 14  Company response to consumer  119606 non-null  object\n",
      " 15  Timely response?              119606 non-null  object\n",
      " 16  Complaint ID                  119606 non-null  int64 \n",
      "dtypes: int64(1), object(16)\n",
      "memory usage: 15.5+ MB\n"
     ]
    }
   ],
   "source": [
    "#checking both the datasets\n",
    "df_train.info()\n",
    "\n",
    "df_test.info()"
   ]
  },
  {
   "cell_type": "code",
   "execution_count": 4,
   "metadata": {},
   "outputs": [
    {
     "data": {
      "text/plain": [
       "No     376990\n",
       "Yes    101431\n",
       "Name: Consumer disputed?, dtype: int64"
      ]
     },
     "execution_count": 4,
     "metadata": {},
     "output_type": "execute_result"
    }
   ],
   "source": [
    "#response variable\n",
    "df_train['Consumer disputed?'].value_counts()"
   ]
  },
  {
   "cell_type": "code",
   "execution_count": 5,
   "metadata": {},
   "outputs": [
    {
     "name": "stdout",
     "output_type": "stream",
     "text": [
      "Date received : 1759\n",
      "Product : 12\n",
      "Sub-product : 47\n",
      "Issue : 95\n",
      "Sub-issue : 68\n",
      "Consumer complaint narrative : 74019\n",
      "Company public response : 10\n",
      "Company : 3276\n",
      "State : 62\n",
      "ZIP code : 25962\n",
      "Tags : 3\n",
      "Consumer consent provided? : 4\n",
      "Submitted via : 6\n",
      "Date sent to company : 1706\n",
      "Company response to consumer : 7\n",
      "Timely response? : 2\n",
      "Consumer disputed? : 2\n"
     ]
    }
   ],
   "source": [
    "#checking unique values in the columns\n",
    "for col in df_train.select_dtypes(['object']).columns:\n",
    "    print(col, ':' , df_train[col].nunique())"
   ]
  },
  {
   "cell_type": "code",
   "execution_count": 6,
   "metadata": {},
   "outputs": [
    {
     "name": "stdout",
     "output_type": "stream",
     "text": [
      "0.7510330859222317\n",
      "0.7529471765630487\n"
     ]
    }
   ],
   "source": [
    "#choosing a subset of data to extract max possible values\n",
    "print(df_train['Company'].value_counts()[0:40].sum()/478421)\n",
    "print(df_test['Company'].value_counts()[0:40].sum()/119606)"
   ]
  },
  {
   "cell_type": "code",
   "execution_count": 7,
   "metadata": {},
   "outputs": [
    {
     "name": "stdout",
     "output_type": "stream",
     "text": [
      "0.8716360694869163\n",
      "0.8742956038994699\n"
     ]
    }
   ],
   "source": [
    "#choosing a subset of data to extract max possible values\n",
    "print(df_train['State'].value_counts()[0:25].sum()/478421)\n",
    "print(df_test['State'].value_counts()[0:25].sum()/119606)"
   ]
  },
  {
   "cell_type": "markdown",
   "metadata": {},
   "source": [
    "### Data cleaning notes:\n",
    "\n",
    "- 'Consumer disputed?' is the response variable, change it to 'Y'\n",
    "\n",
    "- Update col names [remove '?', '-' and spaces]\n",
    "\n",
    "1. **One Hot Encoding** => product, tags, consent provided, Submitted via, Company response to consumer, Timely response?\n",
    "[since they have less unique values, wont lead to data explosion]\n",
    "2. **Drop** => Company ID, zip [ID is not needed, ZIP has ~3K unique values]\n",
    "3. **tf idf** => issue, narrative [Using NLP]\n",
    "4. **subset** => Company (top 40), state(top 25) [Has many unique values, but subset provides significant data which can be chosen and converted using one hot encoding ]\n",
    "5. **isNaN** => Sub-product, Sub-issue, Company public response [has many nulls, thus creating a single col to check if value is present or not]\n",
    "6. **Date conversion** [checking the difference between dates to understand the resolution time]"
   ]
  },
  {
   "cell_type": "code",
   "execution_count": 8,
   "metadata": {},
   "outputs": [],
   "source": [
    "#date conversion\n",
    "df_train['Date received'] = pd.to_datetime(df_train['Date received'], infer_datetime_format=True)\n",
    "df_train['Date sent to company'] = pd.to_datetime(df_train['Date sent to company'], infer_datetime_format=True)\n",
    "\n",
    "df_train['date diff'] =  df_train['Date sent to company'] - df_train['Date received']\n",
    "\n",
    "#df_train.drop(['Date received','Date sent to company'],1,inplace=True)"
   ]
  },
  {
   "cell_type": "code",
   "execution_count": null,
   "metadata": {},
   "outputs": [],
   "source": []
  },
  {
   "cell_type": "code",
   "execution_count": null,
   "metadata": {},
   "outputs": [],
   "source": []
  }
 ],
 "metadata": {
  "kernelspec": {
   "display_name": "Python 3",
   "language": "python",
   "name": "python3"
  },
  "language_info": {
   "codemirror_mode": {
    "name": "ipython",
    "version": 3
   },
   "file_extension": ".py",
   "mimetype": "text/x-python",
   "name": "python",
   "nbconvert_exporter": "python",
   "pygments_lexer": "ipython3",
   "version": "3.7.7"
  }
 },
 "nbformat": 4,
 "nbformat_minor": 4
}
